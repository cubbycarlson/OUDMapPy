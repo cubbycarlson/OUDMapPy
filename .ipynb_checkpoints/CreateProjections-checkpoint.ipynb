{
 "cells": [
  {
   "cell_type": "code",
   "execution_count": 147,
   "id": "52471437-731c-4001-a8dd-77b87d3c09b3",
   "metadata": {},
   "outputs": [
    {
     "name": "stdout",
     "output_type": "stream",
     "text": [
      "Performing stepwise search to minimize aic\n",
      " ARIMA(0,1,0)(0,1,0)[12]             : AIC=578.595, Time=0.01 sec\n",
      " ARIMA(1,1,0)(1,1,0)[12]             : AIC=561.520, Time=0.05 sec\n",
      " ARIMA(0,1,1)(0,1,1)[12]             : AIC=566.820, Time=0.11 sec\n",
      " ARIMA(1,1,0)(0,1,0)[12]             : AIC=576.259, Time=0.02 sec\n",
      " ARIMA(1,1,0)(2,1,0)[12]             : AIC=560.360, Time=0.14 sec\n",
      " ARIMA(1,1,0)(3,1,0)[12]             : AIC=562.339, Time=0.29 sec\n",
      " ARIMA(1,1,0)(2,1,1)[12]             : AIC=561.996, Time=0.42 sec\n",
      " ARIMA(1,1,0)(1,1,1)[12]             : AIC=560.191, Time=0.19 sec\n",
      " ARIMA(1,1,0)(0,1,1)[12]             : AIC=inf, Time=0.13 sec\n",
      " ARIMA(1,1,0)(1,1,2)[12]             : AIC=562.172, Time=0.25 sec\n",
      " ARIMA(1,1,0)(0,1,2)[12]             : AIC=561.086, Time=0.18 sec\n",
      " ARIMA(1,1,0)(2,1,2)[12]             : AIC=inf, Time=0.72 sec\n",
      " ARIMA(0,1,0)(1,1,1)[12]             : AIC=572.178, Time=0.08 sec\n",
      " ARIMA(2,1,0)(1,1,1)[12]             : AIC=556.515, Time=0.27 sec\n",
      " ARIMA(2,1,0)(0,1,1)[12]             : AIC=inf, Time=0.18 sec\n",
      " ARIMA(2,1,0)(1,1,0)[12]             : AIC=559.073, Time=0.09 sec\n",
      " ARIMA(2,1,0)(2,1,1)[12]             : AIC=inf, Time=0.77 sec\n",
      " ARIMA(2,1,0)(1,1,2)[12]             : AIC=558.384, Time=0.33 sec\n",
      " ARIMA(2,1,0)(0,1,0)[12]             : AIC=577.155, Time=0.03 sec\n",
      " ARIMA(2,1,0)(0,1,2)[12]             : AIC=557.612, Time=0.37 sec\n",
      " ARIMA(2,1,0)(2,1,0)[12]             : AIC=557.982, Time=0.20 sec\n",
      " ARIMA(2,1,0)(2,1,2)[12]             : AIC=inf, Time=0.89 sec\n",
      " ARIMA(3,1,0)(1,1,1)[12]             : AIC=558.402, Time=0.30 sec\n",
      " ARIMA(2,1,1)(1,1,1)[12]             : AIC=inf, Time=0.45 sec\n",
      " ARIMA(1,1,1)(1,1,1)[12]             : AIC=inf, Time=0.39 sec\n",
      " ARIMA(3,1,1)(1,1,1)[12]             : AIC=inf, Time=0.52 sec\n",
      " ARIMA(2,1,0)(1,1,1)[12] intercept   : AIC=inf, Time=0.43 sec\n",
      "\n",
      "Best model:  ARIMA(2,1,0)(1,1,1)[12]          \n",
      "Total fit time: 7.794 seconds\n"
     ]
    },
    {
     "data": {
      "image/png": "[encoded data removed]",
      "text/plain": [
       "<Figure size 432x288 with 1 Axes>"
      ]
     },
     "metadata": {
      "needs_background": "light"
     },
     "output_type": "display_data"
    },
    {
     "name": "stdout",
     "output_type": "stream",
     "text": [
      "{'deaths': [2642.419430404654, 2671.6292253123574, 2688.149004806225, 2700.1171129483228, 2715.295143473627, 2721.231009961449, 2726.7319728098632, 2716.1988703453185, 2735.21567362966, 2737.561293697926, 2768.1013829520757, 2784.8890859935136, 2794.736761577485, 2814.099743601634, 2836.754159672483, 2855.467613757564, 2876.3772907347266, 2896.7337443145366, 2930.875514448081, 2987.5333702806056, 3046.0237196056164, 3099.0282370550212, 3114.056707623209, 3136.037309021053], 'indices': [70, 71, 72, 73, 74, 75, 76, 77, 78, 79, 80, 81, 82, 83, 84, 85, 86, 87, 88, 89, 90, 91, 92, 93], 'arima_order': (2, 1, 0), 'arima_seasonal_order': (1, 1, 1, 12)} SAVED\n"
     ]
    }
   ],
   "source": [
    "from pmdarima.arima import auto_arima, ADFTest\n",
    "from matplotlib import pyplot as plt\n",
    "import json\n",
    "import numpy as np\n",
    "import pandas as pd\n",
    "\n",
    "with open(\"time_series.json\") as f:\n",
    "    data = json.load(f)\n",
    "states = data['state_list']\n",
    "\n",
    "n = len(data['dates']) + 1\n",
    "\n",
    "idx = np.arange(n - 1)\n",
    "\n",
    "for state in states:\n",
    "    df = pd.DataFrame({\"date\": idx, \"deaths\": data[state]})\n",
    "    df.set_index('date', inplace=True)\n",
    "    adf_test = ADFTest(alpha = 0.05)\n",
    "    n_test = 6\n",
    "    n_train = n - n_test\n",
    "    train = df[:n_train]\n",
    "    test = df[-n_test:]\n",
    "    plt.plot(train)\n",
    "    plt.plot(test)\n",
    "    arima_model = auto_arima(\n",
    "        train,\n",
    "        start_p=0,\n",
    "        d=1,\n",
    "        start_q=0,\n",
    "        max_p=5,\n",
    "        max_d=5,\n",
    "        max_q=5,\n",
    "        start_P=0,\n",
    "        D=1,\n",
    "        start_Q=0,\n",
    "        max_P=5,\n",
    "        max_D=5,\n",
    "        max_Q=5,\n",
    "        m=12,\n",
    "        seasonal=True,\n",
    "        error_action='warn',\n",
    "        trace=True,\n",
    "        suppress_warnings=True,\n",
    "        stepwise=True,\n",
    "        random_state=20,\n",
    "        n_fits=20\n",
    "    )\n",
    "\n",
    "    arima_model.summary()\n",
    "\n",
    "    # prediction = pd.DataFrame(arima_model.predict(n_periods=n_test), index=test.index)\n",
    "    n_projections = 24\n",
    "    projection_idx = np.arange(n_projections) + n_train\n",
    "    projection = pd.DataFrame(\n",
    "        arima_model.predict(n_periods=n_projections),\n",
    "        index=projection_idx\n",
    "    )\n",
    "\n",
    "    prediction.columns=['predicted_deaths']\n",
    "    prediction\n",
    "\n",
    "    plt.plot(train,label=\"actual (training data)\")\n",
    "    plt.plot(test,label='actual (not used in training)')\n",
    "    plt.plot(projection, label='projection')\n",
    "    plt.legend(loc='upper left')\n",
    "    plt.title(state)\n",
    "    plt.show()\n",
    "\n",
    "    projection_array = projection.to_numpy().flatten()\n",
    "    arima_order = arima_model.to_dict()['order']\n",
    "    arima_seasonal_order = arima_model.to_dict()['seasonal_order']\n",
    "\n",
    "    projection_data = {}\n",
    "    projection_data['deaths'] = projection_array.tolist()\n",
    "    projection_data['indices'] = projection_idx.tolist()\n",
    "    projection_data['arima_order'] = arima_order\n",
    "    projection_data['arima_seasonal_order'] = arima_seasonal_order\n",
    "\n",
    "    with open(f'projections/{state}.json', 'w') as fp:\n",
    "        json.dump(projection_data, fp)\n",
    "        print(projection_data, 'SAVED')"
   ]
  },
  {
   "cell_type": "code",
   "execution_count": null,
   "id": "efcd70b7-f0df-4446-a90b-c78c1c1bfc9a",
   "metadata": {},
   "outputs": [],
   "source": []
  },
  {
   "cell_type": "code",
   "execution_count": null,
   "id": "1c950c9f-9101-4dd0-8139-a82d8fe6dc3a",
   "metadata": {},
   "outputs": [],
   "source": []
  },
  {
   "cell_type": "code",
   "execution_count": null,
   "id": "28369239-eb0a-4882-9fcd-befdccfdc58b",
   "metadata": {},
   "outputs": [],
   "source": []
  },
  {
   "cell_type": "code",
   "execution_count": null,
   "id": "545d6688-90d5-4a4f-a5ef-4ad503f6d13e",
   "metadata": {},
   "outputs": [],
   "source": []
  }
 ],
 "metadata": {
  "kernelspec": {
   "display_name": "Python 3 (ipykernel)",
   "language": "python",
   "name": "python3"
  },
  "language_info": {
   "codemirror_mode": {
    "name": "ipython",
    "version": 3
   },
   "file_extension": ".py",
   "mimetype": "text/x-python",
   "name": "python",
   "nbconvert_exporter": "python",
   "pygments_lexer": "ipython3",
   "version": "3.7.7"
  }
 },
 "nbformat": 4,
 "nbformat_minor": 5
}
